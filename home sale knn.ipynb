{
 "cells": [
  {
   "cell_type": "code",
   "execution_count": 1,
   "metadata": {
    "collapsed": true
   },
   "outputs": [],
   "source": [
    "import os\n",
    "os.chdir('/Users/Avi/Documents/UCD/BA Prac/OD')"
   ]
  },
  {
   "cell_type": "code",
   "execution_count": 2,
   "metadata": {
    "collapsed": true
   },
   "outputs": [],
   "source": [
    "import pandas as pd\n",
    "from sklearn.neighbors import KNeighborsRegressor \n",
    "from sklearn.preprocessing import StandardScaler"
   ]
  },
  {
   "cell_type": "code",
   "execution_count": 3,
   "metadata": {
    "collapsed": true
   },
   "outputs": [],
   "source": [
    "homesaledata = pd.read_csv(\"home_sale_data.csv\")"
   ]
  },
  {
   "cell_type": "code",
   "execution_count": 4,
   "metadata": {},
   "outputs": [
    {
     "data": {
      "text/html": [
       "<div>\n",
       "<style>\n",
       "    .dataframe thead tr:only-child th {\n",
       "        text-align: right;\n",
       "    }\n",
       "\n",
       "    .dataframe thead th {\n",
       "        text-align: left;\n",
       "    }\n",
       "\n",
       "    .dataframe tbody tr th {\n",
       "        vertical-align: top;\n",
       "    }\n",
       "</style>\n",
       "<table border=\"1\" class=\"dataframe\">\n",
       "  <thead>\n",
       "    <tr style=\"text-align: right;\">\n",
       "      <th></th>\n",
       "      <th>latitude</th>\n",
       "      <th>longitude</th>\n",
       "      <th>close_date</th>\n",
       "      <th>close_price</th>\n",
       "    </tr>\n",
       "  </thead>\n",
       "  <tbody>\n",
       "    <tr>\n",
       "      <th>0</th>\n",
       "      <td>1.501986</td>\n",
       "      <td>86.350685</td>\n",
       "      <td>2014-08-16 22:25:31.925431</td>\n",
       "      <td>1.302246e+06</td>\n",
       "    </tr>\n",
       "    <tr>\n",
       "      <th>1</th>\n",
       "      <td>36.367095</td>\n",
       "      <td>-98.664280</td>\n",
       "      <td>2014-08-05 06:34:00.165876</td>\n",
       "      <td>1.475045e+05</td>\n",
       "    </tr>\n",
       "    <tr>\n",
       "      <th>2</th>\n",
       "      <td>36.599284</td>\n",
       "      <td>-97.924700</td>\n",
       "      <td>2014-08-12 23:48:00.887510</td>\n",
       "      <td>1.374006e+05</td>\n",
       "    </tr>\n",
       "    <tr>\n",
       "      <th>3</th>\n",
       "      <td>67.994791</td>\n",
       "      <td>64.688589</td>\n",
       "      <td>2014-08-17 05:27:01.404296</td>\n",
       "      <td>-1.411200e+04</td>\n",
       "    </tr>\n",
       "    <tr>\n",
       "      <th>4</th>\n",
       "      <td>36.647982</td>\n",
       "      <td>-97.866100</td>\n",
       "      <td>2014-08-09 04:00:40.358242</td>\n",
       "      <td>2.391053e+05</td>\n",
       "    </tr>\n",
       "  </tbody>\n",
       "</table>\n",
       "</div>"
      ],
      "text/plain": [
       "    latitude  longitude                  close_date   close_price\n",
       "0   1.501986  86.350685  2014-08-16 22:25:31.925431  1.302246e+06\n",
       "1  36.367095 -98.664280  2014-08-05 06:34:00.165876  1.475045e+05\n",
       "2  36.599284 -97.924700  2014-08-12 23:48:00.887510  1.374006e+05\n",
       "3  67.994791  64.688589  2014-08-17 05:27:01.404296 -1.411200e+04\n",
       "4  36.647982 -97.866100  2014-08-09 04:00:40.358242  2.391053e+05"
      ]
     },
     "execution_count": 4,
     "metadata": {},
     "output_type": "execute_result"
    }
   ],
   "source": [
    "homesaledata.head()"
   ]
  },
  {
   "cell_type": "code",
   "execution_count": 5,
   "metadata": {
    "collapsed": true
   },
   "outputs": [],
   "source": [
    "homesaledata['close_date'] = pd.to_datetime(homesaledata['close_date'])"
   ]
  },
  {
   "cell_type": "code",
   "execution_count": 6,
   "metadata": {
    "collapsed": true
   },
   "outputs": [],
   "source": [
    "homesaledata['year'],homesaledata['month'],homesaledata['day'] = homesaledata['close_date'].dt.year,homesaledata['close_date'].dt.month,homesaledata['close_date'].dt.day"
   ]
  },
  {
   "cell_type": "code",
   "execution_count": 7,
   "metadata": {},
   "outputs": [
    {
     "data": {
      "text/html": [
       "<div>\n",
       "<style>\n",
       "    .dataframe thead tr:only-child th {\n",
       "        text-align: right;\n",
       "    }\n",
       "\n",
       "    .dataframe thead th {\n",
       "        text-align: left;\n",
       "    }\n",
       "\n",
       "    .dataframe tbody tr th {\n",
       "        vertical-align: top;\n",
       "    }\n",
       "</style>\n",
       "<table border=\"1\" class=\"dataframe\">\n",
       "  <thead>\n",
       "    <tr style=\"text-align: right;\">\n",
       "      <th></th>\n",
       "      <th>latitude</th>\n",
       "      <th>longitude</th>\n",
       "      <th>close_date</th>\n",
       "      <th>close_price</th>\n",
       "      <th>year</th>\n",
       "      <th>month</th>\n",
       "      <th>day</th>\n",
       "    </tr>\n",
       "  </thead>\n",
       "  <tbody>\n",
       "    <tr>\n",
       "      <th>0</th>\n",
       "      <td>1.501986</td>\n",
       "      <td>86.350685</td>\n",
       "      <td>2014-08-16 22:25:31.925431</td>\n",
       "      <td>1.302246e+06</td>\n",
       "      <td>2014</td>\n",
       "      <td>8</td>\n",
       "      <td>16</td>\n",
       "    </tr>\n",
       "    <tr>\n",
       "      <th>1</th>\n",
       "      <td>36.367095</td>\n",
       "      <td>-98.664280</td>\n",
       "      <td>2014-08-05 06:34:00.165876</td>\n",
       "      <td>1.475045e+05</td>\n",
       "      <td>2014</td>\n",
       "      <td>8</td>\n",
       "      <td>5</td>\n",
       "    </tr>\n",
       "    <tr>\n",
       "      <th>2</th>\n",
       "      <td>36.599284</td>\n",
       "      <td>-97.924700</td>\n",
       "      <td>2014-08-12 23:48:00.887510</td>\n",
       "      <td>1.374006e+05</td>\n",
       "      <td>2014</td>\n",
       "      <td>8</td>\n",
       "      <td>12</td>\n",
       "    </tr>\n",
       "    <tr>\n",
       "      <th>3</th>\n",
       "      <td>67.994791</td>\n",
       "      <td>64.688589</td>\n",
       "      <td>2014-08-17 05:27:01.404296</td>\n",
       "      <td>-1.411200e+04</td>\n",
       "      <td>2014</td>\n",
       "      <td>8</td>\n",
       "      <td>17</td>\n",
       "    </tr>\n",
       "    <tr>\n",
       "      <th>4</th>\n",
       "      <td>36.647982</td>\n",
       "      <td>-97.866100</td>\n",
       "      <td>2014-08-09 04:00:40.358242</td>\n",
       "      <td>2.391053e+05</td>\n",
       "      <td>2014</td>\n",
       "      <td>8</td>\n",
       "      <td>9</td>\n",
       "    </tr>\n",
       "  </tbody>\n",
       "</table>\n",
       "</div>"
      ],
      "text/plain": [
       "    latitude  longitude                 close_date   close_price  year  month  \\\n",
       "0   1.501986  86.350685 2014-08-16 22:25:31.925431  1.302246e+06  2014      8   \n",
       "1  36.367095 -98.664280 2014-08-05 06:34:00.165876  1.475045e+05  2014      8   \n",
       "2  36.599284 -97.924700 2014-08-12 23:48:00.887510  1.374006e+05  2014      8   \n",
       "3  67.994791  64.688589 2014-08-17 05:27:01.404296 -1.411200e+04  2014      8   \n",
       "4  36.647982 -97.866100 2014-08-09 04:00:40.358242  2.391053e+05  2014      8   \n",
       "\n",
       "   day  \n",
       "0   16  \n",
       "1    5  \n",
       "2   12  \n",
       "3   17  \n",
       "4    9  "
      ]
     },
     "execution_count": 7,
     "metadata": {},
     "output_type": "execute_result"
    }
   ],
   "source": [
    "homesaledata.head()"
   ]
  },
  {
   "cell_type": "code",
   "execution_count": 8,
   "metadata": {
    "collapsed": true
   },
   "outputs": [],
   "source": [
    "y = homesaledata[\"close_price\"]"
   ]
  },
  {
   "cell_type": "code",
   "execution_count": 9,
   "metadata": {
    "collapsed": true
   },
   "outputs": [],
   "source": [
    "features = homesaledata.drop(['close_price','close_date'],axis = 1)"
   ]
  },
  {
   "cell_type": "code",
   "execution_count": 10,
   "metadata": {},
   "outputs": [
    {
     "data": {
      "text/html": [
       "<div>\n",
       "<style>\n",
       "    .dataframe thead tr:only-child th {\n",
       "        text-align: right;\n",
       "    }\n",
       "\n",
       "    .dataframe thead th {\n",
       "        text-align: left;\n",
       "    }\n",
       "\n",
       "    .dataframe tbody tr th {\n",
       "        vertical-align: top;\n",
       "    }\n",
       "</style>\n",
       "<table border=\"1\" class=\"dataframe\">\n",
       "  <thead>\n",
       "    <tr style=\"text-align: right;\">\n",
       "      <th></th>\n",
       "      <th>latitude</th>\n",
       "      <th>longitude</th>\n",
       "      <th>year</th>\n",
       "      <th>month</th>\n",
       "      <th>day</th>\n",
       "    </tr>\n",
       "  </thead>\n",
       "  <tbody>\n",
       "    <tr>\n",
       "      <th>0</th>\n",
       "      <td>1.501986</td>\n",
       "      <td>86.350685</td>\n",
       "      <td>2014</td>\n",
       "      <td>8</td>\n",
       "      <td>16</td>\n",
       "    </tr>\n",
       "    <tr>\n",
       "      <th>1</th>\n",
       "      <td>36.367095</td>\n",
       "      <td>-98.664280</td>\n",
       "      <td>2014</td>\n",
       "      <td>8</td>\n",
       "      <td>5</td>\n",
       "    </tr>\n",
       "    <tr>\n",
       "      <th>2</th>\n",
       "      <td>36.599284</td>\n",
       "      <td>-97.924700</td>\n",
       "      <td>2014</td>\n",
       "      <td>8</td>\n",
       "      <td>12</td>\n",
       "    </tr>\n",
       "    <tr>\n",
       "      <th>3</th>\n",
       "      <td>67.994791</td>\n",
       "      <td>64.688589</td>\n",
       "      <td>2014</td>\n",
       "      <td>8</td>\n",
       "      <td>17</td>\n",
       "    </tr>\n",
       "    <tr>\n",
       "      <th>4</th>\n",
       "      <td>36.647982</td>\n",
       "      <td>-97.866100</td>\n",
       "      <td>2014</td>\n",
       "      <td>8</td>\n",
       "      <td>9</td>\n",
       "    </tr>\n",
       "  </tbody>\n",
       "</table>\n",
       "</div>"
      ],
      "text/plain": [
       "    latitude  longitude  year  month  day\n",
       "0   1.501986  86.350685  2014      8   16\n",
       "1  36.367095 -98.664280  2014      8    5\n",
       "2  36.599284 -97.924700  2014      8   12\n",
       "3  67.994791  64.688589  2014      8   17\n",
       "4  36.647982 -97.866100  2014      8    9"
      ]
     },
     "execution_count": 10,
     "metadata": {},
     "output_type": "execute_result"
    }
   ],
   "source": [
    "features.head()"
   ]
  },
  {
   "cell_type": "code",
   "execution_count": 11,
   "metadata": {},
   "outputs": [
    {
     "data": {
      "text/html": [
       "<div>\n",
       "<style>\n",
       "    .dataframe thead tr:only-child th {\n",
       "        text-align: right;\n",
       "    }\n",
       "\n",
       "    .dataframe thead th {\n",
       "        text-align: left;\n",
       "    }\n",
       "\n",
       "    .dataframe tbody tr th {\n",
       "        vertical-align: top;\n",
       "    }\n",
       "</style>\n",
       "<table border=\"1\" class=\"dataframe\">\n",
       "  <thead>\n",
       "    <tr style=\"text-align: right;\">\n",
       "      <th></th>\n",
       "      <th>latitude</th>\n",
       "      <th>longitude</th>\n",
       "      <th>year</th>\n",
       "      <th>month</th>\n",
       "      <th>day</th>\n",
       "    </tr>\n",
       "  </thead>\n",
       "  <tbody>\n",
       "    <tr>\n",
       "      <th>count</th>\n",
       "      <td>88042.000000</td>\n",
       "      <td>88042.000000</td>\n",
       "      <td>88042.000000</td>\n",
       "      <td>88042.000000</td>\n",
       "      <td>88042.000000</td>\n",
       "    </tr>\n",
       "    <tr>\n",
       "      <th>mean</th>\n",
       "      <td>34.559745</td>\n",
       "      <td>-93.470194</td>\n",
       "      <td>2014.161128</td>\n",
       "      <td>6.692726</td>\n",
       "      <td>16.152268</td>\n",
       "    </tr>\n",
       "    <tr>\n",
       "      <th>std</th>\n",
       "      <td>13.983900</td>\n",
       "      <td>31.194818</td>\n",
       "      <td>0.367805</td>\n",
       "      <td>3.166693</td>\n",
       "      <td>8.893484</td>\n",
       "    </tr>\n",
       "    <tr>\n",
       "      <th>min</th>\n",
       "      <td>-89.938989</td>\n",
       "      <td>-179.891580</td>\n",
       "      <td>2013.000000</td>\n",
       "      <td>1.000000</td>\n",
       "      <td>1.000000</td>\n",
       "    </tr>\n",
       "    <tr>\n",
       "      <th>25%</th>\n",
       "      <td>36.200312</td>\n",
       "      <td>-98.481499</td>\n",
       "      <td>2014.000000</td>\n",
       "      <td>4.000000</td>\n",
       "      <td>8.000000</td>\n",
       "    </tr>\n",
       "    <tr>\n",
       "      <th>50%</th>\n",
       "      <td>36.385215</td>\n",
       "      <td>-98.165490</td>\n",
       "      <td>2014.000000</td>\n",
       "      <td>7.000000</td>\n",
       "      <td>17.000000</td>\n",
       "    </tr>\n",
       "    <tr>\n",
       "      <th>75%</th>\n",
       "      <td>36.544719</td>\n",
       "      <td>-97.967260</td>\n",
       "      <td>2014.000000</td>\n",
       "      <td>9.000000</td>\n",
       "      <td>24.000000</td>\n",
       "    </tr>\n",
       "    <tr>\n",
       "      <th>max</th>\n",
       "      <td>89.984841</td>\n",
       "      <td>179.969440</td>\n",
       "      <td>2016.000000</td>\n",
       "      <td>12.000000</td>\n",
       "      <td>31.000000</td>\n",
       "    </tr>\n",
       "  </tbody>\n",
       "</table>\n",
       "</div>"
      ],
      "text/plain": [
       "           latitude     longitude          year         month           day\n",
       "count  88042.000000  88042.000000  88042.000000  88042.000000  88042.000000\n",
       "mean      34.559745    -93.470194   2014.161128      6.692726     16.152268\n",
       "std       13.983900     31.194818      0.367805      3.166693      8.893484\n",
       "min      -89.938989   -179.891580   2013.000000      1.000000      1.000000\n",
       "25%       36.200312    -98.481499   2014.000000      4.000000      8.000000\n",
       "50%       36.385215    -98.165490   2014.000000      7.000000     17.000000\n",
       "75%       36.544719    -97.967260   2014.000000      9.000000     24.000000\n",
       "max       89.984841    179.969440   2016.000000     12.000000     31.000000"
      ]
     },
     "execution_count": 11,
     "metadata": {},
     "output_type": "execute_result"
    }
   ],
   "source": [
    "features.describe()"
   ]
  },
  {
   "cell_type": "code",
   "execution_count": 12,
   "metadata": {},
   "outputs": [
    {
     "data": {
      "text/plain": [
       "count    8.804200e+04\n",
       "mean     2.663684e+06\n",
       "std      1.543381e+07\n",
       "min     -9.995300e+04\n",
       "25%      1.233064e+05\n",
       "50%      1.816143e+05\n",
       "75%      2.841568e+05\n",
       "max      1.009998e+08\n",
       "Name: close_price, dtype: float64"
      ]
     },
     "execution_count": 12,
     "metadata": {},
     "output_type": "execute_result"
    }
   ],
   "source": [
    "y.describe()"
   ]
  },
  {
   "cell_type": "code",
   "execution_count": null,
   "metadata": {
    "collapsed": true
   },
   "outputs": [],
   "source": []
  }
 ],
 "metadata": {
  "kernelspec": {
   "display_name": "Python 3",
   "language": "python",
   "name": "python3"
  },
  "language_info": {
   "codemirror_mode": {
    "name": "ipython",
    "version": 3
   },
   "file_extension": ".py",
   "mimetype": "text/x-python",
   "name": "python",
   "nbconvert_exporter": "python",
   "pygments_lexer": "ipython3",
   "version": "3.6.1"
  }
 },
 "nbformat": 4,
 "nbformat_minor": 2
}
